{
 "cells": [
  {
   "cell_type": "code",
   "execution_count": null,
   "metadata": {},
   "outputs": [],
   "source": [
    "#gus kingman\n",
    "#nasa meteor exercise "
   ]
  },
  {
   "cell_type": "code",
   "execution_count": 107,
   "metadata": {},
   "outputs": [],
   "source": [
    "import requests  #similar to urllib, this library allows a computer to ping a website\n",
    "import json      #library to handle JSON formatted data\n",
    "#import pandas pd\n"
   ]
  },
  {
   "cell_type": "code",
   "execution_count": null,
   "metadata": {},
   "outputs": [],
   "source": [
    "#API: https://data.nasa.gov/resource/gh4g-9sfh.json"
   ]
  },
  {
   "cell_type": "code",
   "execution_count": 108,
   "metadata": {},
   "outputs": [],
   "source": [
    "#URL to TVMaze API\n",
    "#this place has data for tv shows\n",
    "url = r\"https://data.nasa.gov/resource/gh4g-9sfh.json\""
   ]
  },
  {
   "cell_type": "code",
   "execution_count": 109,
   "metadata": {},
   "outputs": [
    {
     "data": {
      "text/plain": [
       "<Response [200]>"
      ]
     },
     "execution_count": 109,
     "metadata": {},
     "output_type": "execute_result"
    }
   ],
   "source": [
    "#get 200\n",
    "resp = requests.get(url)\n",
    "resp\n",
    "#sweet we got 200"
   ]
  },
  {
   "cell_type": "code",
   "execution_count": 110,
   "metadata": {},
   "outputs": [],
   "source": [
    "#send a request to the website to return back text data from the API\n",
    "#returns data as JSON string\n",
    "str_data = resp.text\n",
    "#str_data\n"
   ]
  },
  {
   "cell_type": "code",
   "execution_count": null,
   "metadata": {},
   "outputs": [],
   "source": [
    "#lets take a peek\n",
    "#str_data\n",
    "#quotation mark at the front means its a string\n",
    "#yup its a string"
   ]
  },
  {
   "cell_type": "code",
   "execution_count": 111,
   "metadata": {},
   "outputs": [],
   "source": [
    "#loads function reversed dictionary order\n",
    "#dictionary objects are unordered in general\n",
    "MetData = json.loads(str_data)\n",
    "#MetData"
   ]
  },
  {
   "cell_type": "code",
   "execution_count": 112,
   "metadata": {},
   "outputs": [
    {
     "data": {
      "text/plain": [
       "list"
      ]
     },
     "execution_count": 112,
     "metadata": {},
     "output_type": "execute_result"
    }
   ],
   "source": [
    "#what are you\n",
    "#verify that JSON object is one big dictionary\n",
    "type(MetData)"
   ]
  },
  {
   "cell_type": "code",
   "execution_count": null,
   "metadata": {},
   "outputs": [],
   "source": [
    "MetData[0]"
   ]
  },
  {
   "cell_type": "code",
   "execution_count": null,
   "metadata": {},
   "outputs": [],
   "source": [
    "MetData[5]\n",
    "#okkie dokkie the list has the same structure"
   ]
  },
  {
   "cell_type": "code",
   "execution_count": null,
   "metadata": {},
   "outputs": [],
   "source": [
    "type(MetData[0])"
   ]
  },
  {
   "cell_type": "code",
   "execution_count": null,
   "metadata": {},
   "outputs": [],
   "source": [
    "#find dem keys\n",
    "MetData[0].keys()"
   ]
  },
  {
   "cell_type": "code",
   "execution_count": null,
   "metadata": {},
   "outputs": [],
   "source": [
    "MetData[0]['year']"
   ]
  },
  {
   "cell_type": "code",
   "execution_count": null,
   "metadata": {},
   "outputs": [],
   "source": [
    "MetData[0]['geolocation']"
   ]
  },
  {
   "cell_type": "code",
   "execution_count": null,
   "metadata": {},
   "outputs": [],
   "source": [
    "MetData[0]['mass']"
   ]
  },
  {
   "cell_type": "code",
   "execution_count": 113,
   "metadata": {},
   "outputs": [],
   "source": [
    "def cleanText(text):\n",
    "    import re\n",
    "            #\n",
    "            #lookig for angle bracket, those characters between the set of angle brackets are to help look for stuff\n",
    "    clean = re.compile('<.*?>') #regular expression that looks for any pattern in a string that has <>\n",
    "    \n",
    "    # .sub =  what to replace the pattern with \n",
    "    return re.sub(clean, '', text)"
   ]
  },
  {
   "cell_type": "code",
   "execution_count": 114,
   "metadata": {},
   "outputs": [],
   "source": [
    "#set empty lists to hold each feature's information\n",
    "\n",
    "name_ls = [] #\n",
    "id_ls = [] #ID\n",
    "nametype_ls = []  #e\n",
    "recclass_ls = []   \n",
    "mass_ls = []   #ai\n",
    "fall_ls = []    \n",
    "year_ls = []  #s\n",
    "lat_ls = [] \n",
    "long_ls = []\n",
    "geolocation_ls = []\n"
   ]
  },
  {
   "cell_type": "raw",
   "metadata": {},
   "source": [
    "for meteor in MetData:\n",
    "    \n",
    "    try: name_ls = meteor['name']\n",
    "    except: name_ls = None\n",
    "    \n",
    "    try: name_ls = meteor['name']\n",
    "    except: name_ls = None    \n",
    "        \n",
    "        \n",
    "        "
   ]
  },
  {
   "cell_type": "raw",
   "metadata": {},
   "source": [
    "for meteor in MetData:\n",
    "    \n",
    "    try: name = meteor['name']\n",
    "    except: name = None\n",
    "    try: id_ls = meteor['id']\n",
    "    except: id_ls = None\n",
    "    try: nametype_ls = meteor['nametype']\n",
    "    except: nametype_ls = None\n",
    "    try: recclass_ls = meteor['recclass']\n",
    "    except: recclass_ls = None\n",
    "    try: mass_ls = meteor['mass']\n",
    "    except: mass_ls = None\n",
    "    try: fall_ls = meteor['fall']\n",
    "    except: fall_ls = None\n",
    "    try: year_ls = meteor['year']\n",
    "    except: year_ls = None\n",
    "          try: reclat_ls = meteor['reclat']\n",
    "    except: reclat_ls = None\n",
    "          try: reclong_ls = meteor['reclong']\n",
    "    except: reclong_ls = None\n",
    "          try: geolocation_ls = meteor['geolocation']\n",
    "    except: geolocation_ls = None"
   ]
  },
  {
   "cell_type": "raw",
   "metadata": {},
   "source": [
    "for meteor in MetData:\n",
    "    try: theid = meteor['id']\n",
    "    except: theid = None\n",
    "\n",
    "    \n",
    "    id_ls.append(meteor['id']) "
   ]
  },
  {
   "cell_type": "raw",
   "metadata": {},
   "source": [
    "for meteor in MetData:\n",
    "    try: year = meteor['year']\n",
    "    except: year = None\n",
    "        \n",
    "year_ls.append(meteor['year']) "
   ]
  },
  {
   "cell_type": "raw",
   "metadata": {},
   "source": [
    "  for meteor in MetData:\n",
    "    try: fall = meteor['fall']\n",
    "    except: fall = None\n",
    "    fall_ls.append(meteor['fall'])  "
   ]
  },
  {
   "cell_type": "code",
   "execution_count": null,
   "metadata": {},
   "outputs": [],
   "source": []
  },
  {
   "cell_type": "raw",
   "metadata": {},
   "source": [
    "ID\n",
    "Year\n",
    "Fall\n",
    "Name\n",
    "Name Type\n",
    "Mass\n",
    "Latitude\n",
    "Longitude"
   ]
  },
  {
   "cell_type": "code",
   "execution_count": 115,
   "metadata": {},
   "outputs": [],
   "source": [
    "for meteor in MetData:\n",
    "    \n",
    "    try: name = meteor['name']\n",
    "    except: name = None\n",
    "    try: theid = meteor['id']\n",
    "    except: theid = None\n",
    "    try: nametype = meteor['nametype']\n",
    "    except: nametype = None\n",
    "    try: recclass = meteor['recclass']\n",
    "    except: recclass = None\n",
    "    try: mass = meteor['mass']\n",
    "    except: mass = None\n",
    "    try: fall = meteor['fall']\n",
    "    except: fall = None\n",
    "    try: year = meteor['year']\n",
    "    except: year = None\n",
    "    try: reclat = meteor['reclat']\n",
    "    except: reclat = None\n",
    "    try: reclong = meteor['reclong']\n",
    "    except: reclong = None\n",
    "    try: geolocation = meteor['geolocation']\n",
    "    except: geolocation = None\n",
    "        \n",
    "    name_ls.append(name)\n",
    "    theid_ls.append(meteor['id']) \n",
    "    nametype_ls.append(meteor['nametype']) \n",
    "    recclass_ls.append(meteor['recclass'])    \n",
    "    mass_ls.append(mass)\n",
    "    fall_ls.append(meteor['fall'])  \n",
    "    year_ls.append(year) \n",
    "    lat_ls.append(reclat) \n",
    "    long_ls.append(reclong) \n",
    "    geolocation_ls.append('geolocation') \n",
    "\n",
    "   "
   ]
  },
  {
   "cell_type": "code",
   "execution_count": null,
   "metadata": {},
   "outputs": [],
   "source": [
    "reclat_ls"
   ]
  },
  {
   "cell_type": "code",
   "execution_count": 116,
   "metadata": {},
   "outputs": [],
   "source": [
    "TWDlist = list(zip(theid_ls, year_ls, fall_ls, name_ls, nametype_ls, mass_ls, lat_ls,  long_ls,))\n",
    "\n",
    "colnames = ['id', 'year', 'fall', 'name', 'nametype', 'mass', 'lat', 'long']"
   ]
  },
  {
   "cell_type": "code",
   "execution_count": 117,
   "metadata": {},
   "outputs": [
    {
     "data": {
      "text/html": [
       "<div>\n",
       "<style scoped>\n",
       "    .dataframe tbody tr th:only-of-type {\n",
       "        vertical-align: middle;\n",
       "    }\n",
       "\n",
       "    .dataframe tbody tr th {\n",
       "        vertical-align: top;\n",
       "    }\n",
       "\n",
       "    .dataframe thead th {\n",
       "        text-align: right;\n",
       "    }\n",
       "</style>\n",
       "<table border=\"1\" class=\"dataframe\">\n",
       "  <thead>\n",
       "    <tr style=\"text-align: right;\">\n",
       "      <th></th>\n",
       "      <th>id</th>\n",
       "      <th>year</th>\n",
       "      <th>fall</th>\n",
       "      <th>name</th>\n",
       "      <th>nametype</th>\n",
       "      <th>mass</th>\n",
       "      <th>lat</th>\n",
       "      <th>long</th>\n",
       "    </tr>\n",
       "  </thead>\n",
       "  <tbody>\n",
       "    <tr>\n",
       "      <th>0</th>\n",
       "      <td>1</td>\n",
       "      <td>1880-01-01T00:00:00.000</td>\n",
       "      <td>Fell</td>\n",
       "      <td>Aachen</td>\n",
       "      <td>Valid</td>\n",
       "      <td>21</td>\n",
       "      <td>50.775000</td>\n",
       "      <td>6.083330</td>\n",
       "    </tr>\n",
       "    <tr>\n",
       "      <th>1</th>\n",
       "      <td>2</td>\n",
       "      <td>1951-01-01T00:00:00.000</td>\n",
       "      <td>Fell</td>\n",
       "      <td>Aarhus</td>\n",
       "      <td>Valid</td>\n",
       "      <td>720</td>\n",
       "      <td>56.183330</td>\n",
       "      <td>10.233330</td>\n",
       "    </tr>\n",
       "    <tr>\n",
       "      <th>2</th>\n",
       "      <td>6</td>\n",
       "      <td>1952-01-01T00:00:00.000</td>\n",
       "      <td>Fell</td>\n",
       "      <td>Abee</td>\n",
       "      <td>Valid</td>\n",
       "      <td>107000</td>\n",
       "      <td>54.216670</td>\n",
       "      <td>-113.000000</td>\n",
       "    </tr>\n",
       "    <tr>\n",
       "      <th>3</th>\n",
       "      <td>10</td>\n",
       "      <td>1976-01-01T00:00:00.000</td>\n",
       "      <td>Fell</td>\n",
       "      <td>Acapulco</td>\n",
       "      <td>Valid</td>\n",
       "      <td>1914</td>\n",
       "      <td>16.883330</td>\n",
       "      <td>-99.900000</td>\n",
       "    </tr>\n",
       "    <tr>\n",
       "      <th>4</th>\n",
       "      <td>370</td>\n",
       "      <td>1902-01-01T00:00:00.000</td>\n",
       "      <td>Fell</td>\n",
       "      <td>Achiras</td>\n",
       "      <td>Valid</td>\n",
       "      <td>780</td>\n",
       "      <td>-33.166670</td>\n",
       "      <td>-64.950000</td>\n",
       "    </tr>\n",
       "  </tbody>\n",
       "</table>\n",
       "</div>"
      ],
      "text/plain": [
       "    id                     year  fall      name nametype    mass         lat  \\\n",
       "0    1  1880-01-01T00:00:00.000  Fell    Aachen    Valid      21   50.775000   \n",
       "1    2  1951-01-01T00:00:00.000  Fell    Aarhus    Valid     720   56.183330   \n",
       "2    6  1952-01-01T00:00:00.000  Fell      Abee    Valid  107000   54.216670   \n",
       "3   10  1976-01-01T00:00:00.000  Fell  Acapulco    Valid    1914   16.883330   \n",
       "4  370  1902-01-01T00:00:00.000  Fell   Achiras    Valid     780  -33.166670   \n",
       "\n",
       "          long  \n",
       "0     6.083330  \n",
       "1    10.233330  \n",
       "2  -113.000000  \n",
       "3   -99.900000  \n",
       "4   -64.950000  "
      ]
     },
     "execution_count": 117,
     "metadata": {},
     "output_type": "execute_result"
    }
   ],
   "source": [
    "import pandas as pd\n",
    "\n",
    "df = pd.DataFrame(TWDlist, columns=colnames)\n",
    "\n",
    "df.head()\n"
   ]
  },
  {
   "cell_type": "code",
   "execution_count": null,
   "metadata": {},
   "outputs": [],
   "source": []
  },
  {
   "cell_type": "code",
   "execution_count": null,
   "metadata": {},
   "outputs": [],
   "source": []
  },
  {
   "cell_type": "code",
   "execution_count": null,
   "metadata": {},
   "outputs": [],
   "source": []
  }
 ],
 "metadata": {
  "kernelspec": {
   "display_name": "Python 3",
   "language": "python",
   "name": "python3"
  },
  "language_info": {
   "codemirror_mode": {
    "name": "ipython",
    "version": 3
   },
   "file_extension": ".py",
   "mimetype": "text/x-python",
   "name": "python",
   "nbconvert_exporter": "python",
   "pygments_lexer": "ipython3",
   "version": "3.7.6"
  }
 },
 "nbformat": 4,
 "nbformat_minor": 4
}
