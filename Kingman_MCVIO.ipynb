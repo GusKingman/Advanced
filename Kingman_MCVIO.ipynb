{
 "cells": [
  {
   "cell_type": "code",
   "execution_count": 49,
   "metadata": {
    "scrolled": false
   },
   "outputs": [],
   "source": [
    "#Gus Kingman MOCO exercise\n",
    "\n",
    "#load that ussual \n",
    "import json\n",
    "\n",
    "import pandas as pd"
   ]
  },
  {
   "cell_type": "code",
   "execution_count": 50,
   "metadata": {},
   "outputs": [],
   "source": [
    "#\n",
    "filepath = 'datasets/MoCoViolations_2018.json'\n",
    "with open(filepath) as file:\n",
    "    violations = json.load(file)"
   ]
  },
  {
   "cell_type": "code",
   "execution_count": 3,
   "metadata": {},
   "outputs": [
    {
     "data": {
      "text/plain": [
       "dict"
      ]
     },
     "execution_count": 3,
     "metadata": {},
     "output_type": "execute_result"
    }
   ],
   "source": [
    "#check type\n",
    "type(violations)"
   ]
  },
  {
   "cell_type": "code",
   "execution_count": 4,
   "metadata": {},
   "outputs": [
    {
     "data": {
      "text/plain": [
       "dict_keys(['meta', 'data'])"
      ]
     },
     "execution_count": 4,
     "metadata": {},
     "output_type": "execute_result"
    }
   ],
   "source": [
    "violations.keys()\n",
    "#2 keys 'meta', 'data'"
   ]
  },
  {
   "cell_type": "code",
   "execution_count": 33,
   "metadata": {},
   "outputs": [],
   "source": [
    "#"
   ]
  },
  {
   "cell_type": "code",
   "execution_count": 30,
   "metadata": {},
   "outputs": [
    {
     "data": {
      "text/plain": [
       "dict_keys(['view'])"
      ]
     },
     "execution_count": 30,
     "metadata": {},
     "output_type": "execute_result"
    }
   ],
   "source": [
    "violations['meta'].keys()"
   ]
  },
  {
   "cell_type": "code",
   "execution_count": 31,
   "metadata": {},
   "outputs": [
    {
     "data": {
      "text/plain": [
       "dict_keys(['id', 'name', 'averageRating', 'category', 'createdAt', 'description', 'displayType', 'downloadCount', 'hideFromCatalog', 'hideFromDataJson', 'indexUpdatedAt', 'newBackend', 'numberOfComments', 'oid', 'provenance', 'publicationAppendEnabled', 'publicationDate', 'publicationGroup', 'publicationStage', 'rowsUpdatedAt', 'rowsUpdatedBy', 'tableId', 'totalTimesRated', 'viewCount', 'viewLastModified', 'viewType', 'columns', 'grants', 'metadata', 'owner', 'query', 'rights', 'tableAuthor', 'tags', 'flags'])"
      ]
     },
     "execution_count": 31,
     "metadata": {},
     "output_type": "execute_result"
    }
   ],
   "source": [
    "violations['meta']['view'].keys()"
   ]
  },
  {
   "cell_type": "code",
   "execution_count": 73,
   "metadata": {},
   "outputs": [],
   "source": [
    "#violations['meta']['view']['id'].keys"
   ]
  },
  {
   "cell_type": "code",
   "execution_count": 71,
   "metadata": {},
   "outputs": [],
   "source": [
    "#what do you look like\n",
    "#violations\n",
    "#big"
   ]
  },
  {
   "cell_type": "code",
   "execution_count": 74,
   "metadata": {},
   "outputs": [],
   "source": [
    "#"
   ]
  },
  {
   "cell_type": "code",
   "execution_count": 75,
   "metadata": {},
   "outputs": [],
   "source": [
    "#"
   ]
  },
  {
   "cell_type": "code",
   "execution_count": 76,
   "metadata": {},
   "outputs": [],
   "source": [
    "#"
   ]
  },
  {
   "cell_type": "code",
   "execution_count": 77,
   "metadata": {},
   "outputs": [],
   "source": [
    "#"
   ]
  },
  {
   "cell_type": "code",
   "execution_count": 17,
   "metadata": {},
   "outputs": [
    {
     "data": {
      "text/plain": [
       "'2018-12-31T00:00:00'"
      ]
     },
     "execution_count": 17,
     "metadata": {},
     "output_type": "execute_result"
    }
   ],
   "source": [
    "violations['data'][0][9]"
   ]
  },
  {
   "cell_type": "code",
   "execution_count": 18,
   "metadata": {},
   "outputs": [
    {
     "data": {
      "text/plain": [
       "'1st District, Rockville'"
      ]
     },
     "execution_count": 18,
     "metadata": {},
     "output_type": "execute_result"
    }
   ],
   "source": [
    "violations['data'][0][12]\n",
    "#subagency "
   ]
  },
  {
   "cell_type": "code",
   "execution_count": null,
   "metadata": {},
   "outputs": [],
   "source": []
  },
  {
   "cell_type": "code",
   "execution_count": 19,
   "metadata": {},
   "outputs": [
    {
     "data": {
      "text/plain": [
       "'39.07792'"
      ]
     },
     "execution_count": 19,
     "metadata": {},
     "output_type": "execute_result"
    }
   ],
   "source": [
    "violations['data'][0][15]\n",
    "#lat"
   ]
  },
  {
   "cell_type": "code",
   "execution_count": 20,
   "metadata": {},
   "outputs": [
    {
     "data": {
      "text/plain": [
       "'6th District, Gaithersburg / Montgomery Village'"
      ]
     },
     "execution_count": 20,
     "metadata": {},
     "output_type": "execute_result"
    }
   ],
   "source": [
    "violations['data'][1][12]"
   ]
  },
  {
   "cell_type": "code",
   "execution_count": null,
   "metadata": {},
   "outputs": [],
   "source": []
  },
  {
   "cell_type": "code",
   "execution_count": 65,
   "metadata": {},
   "outputs": [],
   "source": [
    "# empty lists\n",
    "date_of_stop = []\n",
    "time_of_stop = []\n",
    "agency = []\n",
    "subagency = []\n",
    "description = []\n",
    "location = []\n",
    "latitude = []\n",
    "longitude = []\n",
    "vehicle_type = []\n",
    "vehicle_year = []\n",
    "vehicle_make = []\n",
    "vehicle_model = []\n",
    "vehicle_color = []\n",
    "violation_type = []\n",
    "race = []\n",
    "gender = []\n",
    "driver_state = []\n",
    "driver_license_state = []\n",
    "arrest_type = []"
   ]
  },
  {
   "cell_type": "code",
   "execution_count": 66,
   "metadata": {},
   "outputs": [],
   "source": [
    "#position numbers from sheet provided\n",
    "for item in violations['data']:\n",
    "    date_of_stop.append(item[9])\n",
    "    time_of_stop.append(item[10])\n",
    "    agency.append(item[11])\n",
    "    subagency.append(item[12])\n",
    "    description.append(item[13])\n",
    "    location.append(item[14])\n",
    "    latitude.append(item[15])\n",
    "    longitude.append(item[16])\n",
    "    vehicle_type.append(item[28])\n",
    "    vehicle_year.append(item[29])\n",
    "    vehicle_make.append(item[30])\n",
    "    vehicle_model.append(item[31])\n",
    "    vehicle_color.append(item[32])\n",
    "    violation_type.append(item[33])\n",
    "    race.append(item[37])\n",
    "    gender.append(item[38])\n",
    "    driver_state.append(item[40])\n",
    "    driver_license_state.append(item[41])\n",
    "    arrest_type.append(item[42])"
   ]
  },
  {
   "cell_type": "code",
   "execution_count": null,
   "metadata": {},
   "outputs": [],
   "source": []
  },
  {
   "cell_type": "code",
   "execution_count": null,
   "metadata": {},
   "outputs": [],
   "source": []
  },
  {
   "cell_type": "code",
   "execution_count": null,
   "metadata": {},
   "outputs": [],
   "source": []
  },
  {
   "cell_type": "code",
   "execution_count": 67,
   "metadata": {},
   "outputs": [],
   "source": [
    "MCVIO = list(zip(date_of_stop, time_of_stop, agency, subagency, description, location, latitude, longitude, vehicle_type, vehicle_year, vehicle_make, vehicle_model, vehicle_color, violation_type, race, gender, driver_state, driver_license_state, arrest_type))"
   ]
  },
  {
   "cell_type": "code",
   "execution_count": 68,
   "metadata": {},
   "outputs": [],
   "source": [
    "column_header = ['Date of Stop', 'Time of Stop', 'Agency', 'Subagency', 'Description', 'Location', 'Latitude', 'Longitude', 'Vehicle Type', 'Vehicle Year', 'Vehicle Make', 'Vehicle Model', 'Vehicle Color', 'Violation Type', 'Race', 'Gender', \"Driver's State\", \"Driver's License State\", 'Arrest Type']"
   ]
  },
  {
   "cell_type": "code",
   "execution_count": 69,
   "metadata": {},
   "outputs": [
    {
     "data": {
      "text/html": [
       "<div>\n",
       "<style scoped>\n",
       "    .dataframe tbody tr th:only-of-type {\n",
       "        vertical-align: middle;\n",
       "    }\n",
       "\n",
       "    .dataframe tbody tr th {\n",
       "        vertical-align: top;\n",
       "    }\n",
       "\n",
       "    .dataframe thead th {\n",
       "        text-align: right;\n",
       "    }\n",
       "</style>\n",
       "<table border=\"1\" class=\"dataframe\">\n",
       "  <thead>\n",
       "    <tr style=\"text-align: right;\">\n",
       "      <th></th>\n",
       "      <th>Date of Stop</th>\n",
       "      <th>Time of Stop</th>\n",
       "      <th>Agency</th>\n",
       "      <th>Subagency</th>\n",
       "      <th>Description</th>\n",
       "      <th>Location</th>\n",
       "      <th>Latitude</th>\n",
       "      <th>Longitude</th>\n",
       "      <th>Vehicle Type</th>\n",
       "      <th>Vehicle Year</th>\n",
       "      <th>Vehicle Make</th>\n",
       "      <th>Vehicle Model</th>\n",
       "      <th>Vehicle Color</th>\n",
       "      <th>Violation Type</th>\n",
       "      <th>Race</th>\n",
       "      <th>Gender</th>\n",
       "      <th>Driver's State</th>\n",
       "      <th>Driver's License State</th>\n",
       "      <th>Arrest Type</th>\n",
       "    </tr>\n",
       "  </thead>\n",
       "  <tbody>\n",
       "    <tr>\n",
       "      <th>0</th>\n",
       "      <td>2018-12-31T00:00:00</td>\n",
       "      <td>23:56:00</td>\n",
       "      <td>MCP</td>\n",
       "      <td>1st District, Rockville</td>\n",
       "      <td>FAILURE OF VEH. ON HWY. TO DISPLAY LIGHTED LAM...</td>\n",
       "      <td>355 @ FIRST ST</td>\n",
       "      <td>39.07792</td>\n",
       "      <td>-77.1404116666667</td>\n",
       "      <td>02 - Automobile</td>\n",
       "      <td>2007</td>\n",
       "      <td>TOYOTA</td>\n",
       "      <td>COROLLA</td>\n",
       "      <td>BLUE</td>\n",
       "      <td>Warning</td>\n",
       "      <td>BLACK</td>\n",
       "      <td>M</td>\n",
       "      <td>MD</td>\n",
       "      <td>MD</td>\n",
       "      <td>A - Marked Patrol</td>\n",
       "    </tr>\n",
       "    <tr>\n",
       "      <th>1</th>\n",
       "      <td>2018-12-31T00:00:00</td>\n",
       "      <td>23:52:00</td>\n",
       "      <td>MCP</td>\n",
       "      <td>6th District, Gaithersburg / Montgomery Village</td>\n",
       "      <td>FAILURE TO DISPLAY TWO LIGHTED FRONT LAMPS WHE...</td>\n",
       "      <td>N FREDERICK AVE @ ODENDHAL AVE</td>\n",
       "      <td>39.1486766666667</td>\n",
       "      <td>-77.2063433333333</td>\n",
       "      <td>02 - Automobile</td>\n",
       "      <td>2006</td>\n",
       "      <td>LEXUS</td>\n",
       "      <td>4S</td>\n",
       "      <td>GRAY</td>\n",
       "      <td>Warning</td>\n",
       "      <td>HISPANIC</td>\n",
       "      <td>M</td>\n",
       "      <td>MD</td>\n",
       "      <td>MD</td>\n",
       "      <td>A - Marked Patrol</td>\n",
       "    </tr>\n",
       "    <tr>\n",
       "      <th>2</th>\n",
       "      <td>2018-12-31T00:00:00</td>\n",
       "      <td>23:52:00</td>\n",
       "      <td>MCP</td>\n",
       "      <td>6th District, Gaithersburg / Montgomery Village</td>\n",
       "      <td>FAILURE OF VEH. ON HWY. TO DISPLAY LIGHTED LAM...</td>\n",
       "      <td>N FREDERICK AVE @ ODENDHAL AVE</td>\n",
       "      <td>39.1486766666667</td>\n",
       "      <td>-77.2063433333333</td>\n",
       "      <td>02 - Automobile</td>\n",
       "      <td>2006</td>\n",
       "      <td>LEXUS</td>\n",
       "      <td>4S</td>\n",
       "      <td>GRAY</td>\n",
       "      <td>Warning</td>\n",
       "      <td>HISPANIC</td>\n",
       "      <td>M</td>\n",
       "      <td>MD</td>\n",
       "      <td>MD</td>\n",
       "      <td>A - Marked Patrol</td>\n",
       "    </tr>\n",
       "    <tr>\n",
       "      <th>3</th>\n",
       "      <td>2018-12-31T00:00:00</td>\n",
       "      <td>23:45:00</td>\n",
       "      <td>MCP</td>\n",
       "      <td>1st District, Rockville</td>\n",
       "      <td>FAILURE OF VEH. ON HWY. TO DISPLAY LIGHTED LAM...</td>\n",
       "      <td>355 @ BEAL</td>\n",
       "      <td>39.08545</td>\n",
       "      <td>-77.1451033333333</td>\n",
       "      <td>02 - Automobile</td>\n",
       "      <td>2017</td>\n",
       "      <td>TOYOTA</td>\n",
       "      <td>COROLLA</td>\n",
       "      <td>GRAY</td>\n",
       "      <td>Warning</td>\n",
       "      <td>WHITE</td>\n",
       "      <td>F</td>\n",
       "      <td>MD</td>\n",
       "      <td>MD</td>\n",
       "      <td>A - Marked Patrol</td>\n",
       "    </tr>\n",
       "    <tr>\n",
       "      <th>4</th>\n",
       "      <td>2018-12-31T00:00:00</td>\n",
       "      <td>23:44:00</td>\n",
       "      <td>MCP</td>\n",
       "      <td>Headquarters and Special Operations</td>\n",
       "      <td>FAILURE TO DRIVE VEHICLE ON RIGHT HALF OF ROAD...</td>\n",
       "      <td>FENTON ST @ COLESVILLE RD</td>\n",
       "      <td>38.997515</td>\n",
       "      <td>-77.0267766666667</td>\n",
       "      <td>02 - Automobile</td>\n",
       "      <td>2016</td>\n",
       "      <td>CHEVROLET</td>\n",
       "      <td>IMPALA</td>\n",
       "      <td>BLACK</td>\n",
       "      <td>Warning</td>\n",
       "      <td>BLACK</td>\n",
       "      <td>M</td>\n",
       "      <td>VA</td>\n",
       "      <td>VA</td>\n",
       "      <td>A - Marked Patrol</td>\n",
       "    </tr>\n",
       "  </tbody>\n",
       "</table>\n",
       "</div>"
      ],
      "text/plain": [
       "          Date of Stop Time of Stop Agency  \\\n",
       "0  2018-12-31T00:00:00     23:56:00    MCP   \n",
       "1  2018-12-31T00:00:00     23:52:00    MCP   \n",
       "2  2018-12-31T00:00:00     23:52:00    MCP   \n",
       "3  2018-12-31T00:00:00     23:45:00    MCP   \n",
       "4  2018-12-31T00:00:00     23:44:00    MCP   \n",
       "\n",
       "                                         Subagency  \\\n",
       "0                          1st District, Rockville   \n",
       "1  6th District, Gaithersburg / Montgomery Village   \n",
       "2  6th District, Gaithersburg / Montgomery Village   \n",
       "3                          1st District, Rockville   \n",
       "4              Headquarters and Special Operations   \n",
       "\n",
       "                                         Description  \\\n",
       "0  FAILURE OF VEH. ON HWY. TO DISPLAY LIGHTED LAM...   \n",
       "1  FAILURE TO DISPLAY TWO LIGHTED FRONT LAMPS WHE...   \n",
       "2  FAILURE OF VEH. ON HWY. TO DISPLAY LIGHTED LAM...   \n",
       "3  FAILURE OF VEH. ON HWY. TO DISPLAY LIGHTED LAM...   \n",
       "4  FAILURE TO DRIVE VEHICLE ON RIGHT HALF OF ROAD...   \n",
       "\n",
       "                         Location          Latitude          Longitude  \\\n",
       "0                  355 @ FIRST ST          39.07792  -77.1404116666667   \n",
       "1  N FREDERICK AVE @ ODENDHAL AVE  39.1486766666667  -77.2063433333333   \n",
       "2  N FREDERICK AVE @ ODENDHAL AVE  39.1486766666667  -77.2063433333333   \n",
       "3                      355 @ BEAL          39.08545  -77.1451033333333   \n",
       "4       FENTON ST @ COLESVILLE RD         38.997515  -77.0267766666667   \n",
       "\n",
       "      Vehicle Type Vehicle Year Vehicle Make Vehicle Model Vehicle Color  \\\n",
       "0  02 - Automobile         2007       TOYOTA       COROLLA          BLUE   \n",
       "1  02 - Automobile         2006        LEXUS            4S          GRAY   \n",
       "2  02 - Automobile         2006        LEXUS            4S          GRAY   \n",
       "3  02 - Automobile         2017       TOYOTA       COROLLA          GRAY   \n",
       "4  02 - Automobile         2016    CHEVROLET        IMPALA         BLACK   \n",
       "\n",
       "  Violation Type      Race Gender Driver's State Driver's License State  \\\n",
       "0        Warning     BLACK      M             MD                     MD   \n",
       "1        Warning  HISPANIC      M             MD                     MD   \n",
       "2        Warning  HISPANIC      M             MD                     MD   \n",
       "3        Warning     WHITE      F             MD                     MD   \n",
       "4        Warning     BLACK      M             VA                     VA   \n",
       "\n",
       "         Arrest Type  \n",
       "0  A - Marked Patrol  \n",
       "1  A - Marked Patrol  \n",
       "2  A - Marked Patrol  \n",
       "3  A - Marked Patrol  \n",
       "4  A - Marked Patrol  "
      ]
     },
     "execution_count": 69,
     "metadata": {},
     "output_type": "execute_result"
    }
   ],
   "source": [
    "# creating the dataframe\n",
    "# columns must be PLURAL\n",
    "MCV_df = pd.DataFrame(MCVIO, columns=column_header)\n",
    "\n",
    "MCV_df.head()"
   ]
  },
  {
   "cell_type": "code",
   "execution_count": 70,
   "metadata": {},
   "outputs": [],
   "source": [
    "#"
   ]
  },
  {
   "cell_type": "code",
   "execution_count": null,
   "metadata": {},
   "outputs": [],
   "source": []
  },
  {
   "cell_type": "code",
   "execution_count": null,
   "metadata": {},
   "outputs": [],
   "source": []
  },
  {
   "cell_type": "code",
   "execution_count": null,
   "metadata": {},
   "outputs": [],
   "source": []
  },
  {
   "cell_type": "code",
   "execution_count": null,
   "metadata": {},
   "outputs": [],
   "source": []
  },
  {
   "cell_type": "code",
   "execution_count": null,
   "metadata": {},
   "outputs": [],
   "source": []
  }
 ],
 "metadata": {
  "kernelspec": {
   "display_name": "Python 3",
   "language": "python",
   "name": "python3"
  },
  "language_info": {
   "codemirror_mode": {
    "name": "ipython",
    "version": 3
   },
   "file_extension": ".py",
   "mimetype": "text/x-python",
   "name": "python",
   "nbconvert_exporter": "python",
   "pygments_lexer": "ipython3",
   "version": "3.7.6"
  }
 },
 "nbformat": 4,
 "nbformat_minor": 4
}
